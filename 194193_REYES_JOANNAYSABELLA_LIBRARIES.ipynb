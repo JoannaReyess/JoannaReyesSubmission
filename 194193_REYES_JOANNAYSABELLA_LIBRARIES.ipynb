{
 "cells": [
  {
   "cell_type": "markdown",
   "metadata": {},
   "source": [
    "# Assignment: Libraries\n",
    "\n",
    "This problem set aims to develop your ability to use non-standard libraries such as NumPy, Pandas, Matplotlib, and requests.  \n",
    "\n",
    "Please follow all instructions precisely."
   ]
  },
  {
   "cell_type": "markdown",
   "metadata": {},
   "source": [
    "## Prerequisite: Install libraries\n",
    "\n",
    "To do this assignment, you need to have a few libraries installed. You already know how to install libraries in a basic Python virtual environment. In Anaconda, it is even easier.  \n",
    "\n",
    "Install the following libraries:\n",
    "1. Pandas\n",
    "2. Requests\n",
    "3. Matplotlib\n",
    "\n",
    "Follow this tutorial to install external libraries for your Jupyter notebook using the Anaconda Navigator.  \n",
    "\n",
    "https://www.tutorialspoint.com/add-packages-to-anaconda-environment-in-python  \n",
    "\n",
    "Once you are done, run the following cell. If it does nothing (i.e., if it throws no errors), then you may proceed."
   ]
  },
  {
   "cell_type": "code",
   "execution_count": 3,
   "metadata": {},
   "outputs": [],
   "source": [
    "# NON-EDITABLE CODE CELL\n",
    "# You may run this cell, but do not edit it.\n",
    "\n",
    "import pandas as pd\n",
    "import numpy as np\n",
    "import matplotlib.pyplot as plt\n",
    "import requests"
   ]
  },
  {
   "cell_type": "markdown",
   "metadata": {},
   "source": [
    "## Note\n",
    "\n",
    "1. There is a good chance that you will have to look up how to do things using these libraries. This is fine. Just credit your sources appropriately.\n"
   ]
  },
  {
   "cell_type": "markdown",
   "metadata": {},
   "source": [
    "## Problem 1: Association Rules"
   ]
  },
  {
   "cell_type": "markdown",
   "metadata": {},
   "source": [
    "### Context\n",
    "\n",
    "You are a data consultant for a medium-sized grocery. Your job is to help the grocery's marketing and sales team identify the most frequent purchases of customers.  "
   ]
  },
  {
   "cell_type": "markdown",
   "metadata": {},
   "source": [
    "### 1.1\n",
    "\n",
    "Read the file `sample order basket.csv` into a Pandas DataFrame called `df`."
   ]
  },
  {
   "cell_type": "code",
   "execution_count": 4,
   "metadata": {},
   "outputs": [],
   "source": [
    "# CODE CELL\n",
    "\n",
    "# CODE START\n",
    "df = pd.read_csv(\"sample order basket.csv\")\n",
    "# CODE END"
   ]
  },
  {
   "cell_type": "markdown",
   "metadata": {},
   "source": [
    "### 1.2\n",
    "\n",
    "Create a \"binary table\" using a Pandas DataFrame. Save the DataFrame in a variable called `binary_table`.  \n",
    "\n",
    "The specifications of the binary table are as follows:\n",
    "1. The data in the binary table is based on the order log contained in `df`.\n",
    "2. The index values of the binary table are the unique order IDs contained in the sales logs. These are arranged in ascending numerical order. Format the values as `int64`.\n",
    "3. The column values of the binary table are the unique products contained in the sales logs. These are arranged in alphabetical order. Format the values as `object`.\n",
    "4. The values of the binary table are either 0 or 1. A value will be 1 if the respective product is present in the respective order, and it will be 0 if the respective product is not present in the respective order. So, for example: if Order 5 ordered an apple, then the cell at row 5, column apple will have the value 1, and every other cell at row 5 will have the value 0."
   ]
  },
  {
   "cell_type": "code",
   "execution_count": 5,
   "metadata": {},
   "outputs": [],
   "source": [
    "# CODE CELL\n",
    "\n",
    "# CODE START\n",
    "binary_table = df.set_index('OrderNum')['Product'].str.get_dummies().reset_index()\n",
    "binary_table = binary_table.groupby(['OrderNum']).agg(bread=('bread', 'sum'), cheese=('cheese', 'sum'), eggs=('eggs', 'sum'), flour = ('flour','sum'), jam = ('jam', 'sum'))\n",
    "# CODE END"
   ]
  },
  {
   "cell_type": "markdown",
   "metadata": {},
   "source": [
    "### 1.3\n",
    "\n",
    "Using `binary_table`, create a report. Store this report in a Pandas DataFrame called `report`.  \n",
    "\n",
    "The specifications of the report are as follows:\n",
    "1. The data in the report is based on the data in `binary_table`.\n",
    "2. The index values of `report` are simply the defaults (i.e., counting up from 0 to whatever number).\n",
    "3. `report` has two columns: `combination` and `count`. The `combination` column will contain tuples that describe an order combination (e.g., (\"apple\", \"eggplant\")). Format the `combination` column as `object`. The `count` column will contain an integer value describing the number of times that this combination appeared in the list of orders. Format the `count` column as `int64`.\n",
    "4. Sort `reports` by `count` in descending order. The order of combinations within each count bracket does not matter.\n",
    "\n",
    "You may use any standard library from Python 3.8 that you feel is necessary to complete this item. (This just means that you can use any standard Python library as long as it was in Python 3.8)."
   ]
  },
  {
   "cell_type": "code",
   "execution_count": 16,
   "metadata": {
    "scrolled": true
   },
   "outputs": [
    {
     "data": {
      "text/html": [
       "<div>\n",
       "<style scoped>\n",
       "    .dataframe tbody tr th:only-of-type {\n",
       "        vertical-align: middle;\n",
       "    }\n",
       "\n",
       "    .dataframe tbody tr th {\n",
       "        vertical-align: top;\n",
       "    }\n",
       "\n",
       "    .dataframe thead th {\n",
       "        text-align: right;\n",
       "    }\n",
       "</style>\n",
       "<table border=\"1\" class=\"dataframe\">\n",
       "  <thead>\n",
       "    <tr style=\"text-align: right;\">\n",
       "      <th></th>\n",
       "      <th>combination</th>\n",
       "      <th>count</th>\n",
       "    </tr>\n",
       "  </thead>\n",
       "  <tbody>\n",
       "    <tr>\n",
       "      <th>0</th>\n",
       "      <td>(bread,)</td>\n",
       "      <td>65</td>\n",
       "    </tr>\n",
       "    <tr>\n",
       "      <th>1</th>\n",
       "      <td>(bread, jam)</td>\n",
       "      <td>57</td>\n",
       "    </tr>\n",
       "    <tr>\n",
       "      <th>2</th>\n",
       "      <td>(bread, eggs)</td>\n",
       "      <td>47</td>\n",
       "    </tr>\n",
       "    <tr>\n",
       "      <th>3</th>\n",
       "      <td>(bread, eggs, jam)</td>\n",
       "      <td>46</td>\n",
       "    </tr>\n",
       "    <tr>\n",
       "      <th>4</th>\n",
       "      <td>(eggs,)</td>\n",
       "      <td>31</td>\n",
       "    </tr>\n",
       "    <tr>\n",
       "      <th>5</th>\n",
       "      <td>(jam,)</td>\n",
       "      <td>26</td>\n",
       "    </tr>\n",
       "    <tr>\n",
       "      <th>6</th>\n",
       "      <td>(bread, eggs, flour)</td>\n",
       "      <td>21</td>\n",
       "    </tr>\n",
       "    <tr>\n",
       "      <th>7</th>\n",
       "      <td>(bread, flour, jam)</td>\n",
       "      <td>18</td>\n",
       "    </tr>\n",
       "    <tr>\n",
       "      <th>8</th>\n",
       "      <td>(bread, cheese, eggs)</td>\n",
       "      <td>17</td>\n",
       "    </tr>\n",
       "    <tr>\n",
       "      <th>9</th>\n",
       "      <td>(eggs, jam)</td>\n",
       "      <td>17</td>\n",
       "    </tr>\n",
       "    <tr>\n",
       "      <th>10</th>\n",
       "      <td>(bread, flour)</td>\n",
       "      <td>15</td>\n",
       "    </tr>\n",
       "    <tr>\n",
       "      <th>11</th>\n",
       "      <td>(bread, cheese)</td>\n",
       "      <td>15</td>\n",
       "    </tr>\n",
       "    <tr>\n",
       "      <th>12</th>\n",
       "      <td>(cheese,)</td>\n",
       "      <td>13</td>\n",
       "    </tr>\n",
       "    <tr>\n",
       "      <th>13</th>\n",
       "      <td>(bread, eggs, flour, jam)</td>\n",
       "      <td>13</td>\n",
       "    </tr>\n",
       "    <tr>\n",
       "      <th>14</th>\n",
       "      <td>(bread, cheese, jam)</td>\n",
       "      <td>12</td>\n",
       "    </tr>\n",
       "    <tr>\n",
       "      <th>15</th>\n",
       "      <td>(eggs, flour, jam)</td>\n",
       "      <td>11</td>\n",
       "    </tr>\n",
       "    <tr>\n",
       "      <th>16</th>\n",
       "      <td>(bread, cheese, flour)</td>\n",
       "      <td>9</td>\n",
       "    </tr>\n",
       "    <tr>\n",
       "      <th>17</th>\n",
       "      <td>(flour,)</td>\n",
       "      <td>9</td>\n",
       "    </tr>\n",
       "    <tr>\n",
       "      <th>18</th>\n",
       "      <td>(cheese, eggs, jam)</td>\n",
       "      <td>8</td>\n",
       "    </tr>\n",
       "    <tr>\n",
       "      <th>19</th>\n",
       "      <td>(cheese, jam)</td>\n",
       "      <td>7</td>\n",
       "    </tr>\n",
       "    <tr>\n",
       "      <th>20</th>\n",
       "      <td>(bread, cheese, eggs, jam)</td>\n",
       "      <td>7</td>\n",
       "    </tr>\n",
       "    <tr>\n",
       "      <th>21</th>\n",
       "      <td>(cheese, eggs)</td>\n",
       "      <td>6</td>\n",
       "    </tr>\n",
       "    <tr>\n",
       "      <th>22</th>\n",
       "      <td>(cheese, eggs, flour, jam)</td>\n",
       "      <td>6</td>\n",
       "    </tr>\n",
       "    <tr>\n",
       "      <th>23</th>\n",
       "      <td>(flour, jam)</td>\n",
       "      <td>6</td>\n",
       "    </tr>\n",
       "    <tr>\n",
       "      <th>24</th>\n",
       "      <td>(bread, cheese, flour, jam)</td>\n",
       "      <td>5</td>\n",
       "    </tr>\n",
       "    <tr>\n",
       "      <th>25</th>\n",
       "      <td>(eggs, flour)</td>\n",
       "      <td>5</td>\n",
       "    </tr>\n",
       "    <tr>\n",
       "      <th>26</th>\n",
       "      <td>(bread, cheese, eggs, flour)</td>\n",
       "      <td>3</td>\n",
       "    </tr>\n",
       "    <tr>\n",
       "      <th>27</th>\n",
       "      <td>(cheese, flour)</td>\n",
       "      <td>2</td>\n",
       "    </tr>\n",
       "    <tr>\n",
       "      <th>28</th>\n",
       "      <td>(bread, cheese, eggs, flour, jam)</td>\n",
       "      <td>2</td>\n",
       "    </tr>\n",
       "    <tr>\n",
       "      <th>29</th>\n",
       "      <td>(cheese, eggs, flour)</td>\n",
       "      <td>1</td>\n",
       "    </tr>\n",
       "  </tbody>\n",
       "</table>\n",
       "</div>"
      ],
      "text/plain": [
       "                          combination  count\n",
       "0                            (bread,)     65\n",
       "1                        (bread, jam)     57\n",
       "2                       (bread, eggs)     47\n",
       "3                  (bread, eggs, jam)     46\n",
       "4                             (eggs,)     31\n",
       "5                              (jam,)     26\n",
       "6                (bread, eggs, flour)     21\n",
       "7                 (bread, flour, jam)     18\n",
       "8               (bread, cheese, eggs)     17\n",
       "9                         (eggs, jam)     17\n",
       "10                     (bread, flour)     15\n",
       "11                    (bread, cheese)     15\n",
       "12                          (cheese,)     13\n",
       "13          (bread, eggs, flour, jam)     13\n",
       "14               (bread, cheese, jam)     12\n",
       "15                 (eggs, flour, jam)     11\n",
       "16             (bread, cheese, flour)      9\n",
       "17                           (flour,)      9\n",
       "18                (cheese, eggs, jam)      8\n",
       "19                      (cheese, jam)      7\n",
       "20         (bread, cheese, eggs, jam)      7\n",
       "21                     (cheese, eggs)      6\n",
       "22         (cheese, eggs, flour, jam)      6\n",
       "23                       (flour, jam)      6\n",
       "24        (bread, cheese, flour, jam)      5\n",
       "25                      (eggs, flour)      5\n",
       "26       (bread, cheese, eggs, flour)      3\n",
       "27                    (cheese, flour)      2\n",
       "28  (bread, cheese, eggs, flour, jam)      2\n",
       "29              (cheese, eggs, flour)      1"
      ]
     },
     "execution_count": 16,
     "metadata": {},
     "output_type": "execute_result"
    }
   ],
   "source": [
    "# CODE CELL\n",
    "\n",
    "# CODE START\n",
    "updated_binary = binary_table.loc[:, 'bread':'jam'].replace(1, pd.Series(binary_table.columns, binary_table.columns))\n",
    "bin_table= updated_binary.replace({0: None, 'None': None})\n",
    "bin_table['combination'] =(bin_table[bin_table.columns[:]].apply(lambda i: ','.join(i.dropna(how='all').astype(str)),axis=1))\n",
    "converter = bin_table[\"combination\"].str.split(pat=\",\", n=- 1, expand=False)\n",
    "bin_table[\"combination\"] = [tuple(a) for a in converter]\n",
    "report = pd.value_counts(bin_table.combination).to_frame().reset_index()\n",
    "report.columns = ['combination','count']\n",
    "# CODE END"
   ]
  },
  {
   "cell_type": "markdown",
   "metadata": {},
   "source": [
    "## Problem 2: A Plot of the International Space Station's Location"
   ]
  },
  {
   "cell_type": "markdown",
   "metadata": {},
   "source": [
    "We will only be checking the final output of this problem. \n",
    "\n",
    "### Context\n",
    "\n",
    "You are a budding data scientist aiming to try your new tools on real-world data. As a pet project, you have decided that you want to try plotting the latitude and longitude positions of the International Space Station on a chart.  \n",
    "\n",
    "An \"application programming interface\" (API) is an interface (i.e., a point of connection/use) that a program offers to other pieces of software. APIs are how modern computer programs interact. To massively oversimplify the concept, modern applications send and receive HTTP requests and JSON-formatted data to talk to each other.  \n",
    "\n",
    "We will be using the ISS position data API hosted at http://open-notify.org/Open-Notify-API/ISS-Location-Now/ for this item.  \n",
    "\n",
    "You are expected to read the documentation of this API for this item."
   ]
  },
  {
   "cell_type": "markdown",
   "metadata": {},
   "source": [
    "### 2.1\n",
    "\n",
    "Use the `requests` library and the `time` library to collect position data of the ISS at intervals of 10 seconds over the course of 30 minutes by sending GET requests to the ISS API endpoint.  \n",
    "\n",
    "The specifications of this problem are as follows:\n",
    "1. Send a GET request to the ISS API endpoint once every 10 seconds for 30 minutes. \n",
    "2. Each time you send a GET request, append the returned data to a list called `iss_data`.\n",
    "3. Save all the data to a file called `iss-data.json` so that you do not lose it. You may do this every time you get a request if you wish.\n",
    "4. Do not modify the returned data per GET request.  \n",
    "5. The final file `iss-data.json` should contain roughly 180 data points.\n",
    "\n",
    "We will not be strict about the time intervals. We will only look at the chart that you produce from your data."
   ]
  },
  {
   "cell_type": "code",
   "execution_count": 8,
   "metadata": {},
   "outputs": [],
   "source": [
    "# CODE CELL\n",
    "import requests\n",
    "import time\n",
    "import json\n",
    "\n",
    "# CODE START\n",
    "iss_data = []\n",
    "\n",
    "while len(iss_data) < 180:\n",
    "    time.sleep(1)\n",
    "    api = requests.get(\"http://api.open-notify.org/iss-now.json\")\n",
    "    api_dict = api.json()\n",
    "    iss_data.append(api_dict['iss_position'])\n",
    "    \n",
    "with open(\"iss-data.json\", \"w\") as json_file:\n",
    "    json.dump(iss_data, json_file)\n",
    "# CODE END"
   ]
  },
  {
   "cell_type": "markdown",
   "metadata": {},
   "source": [
    "### 2.2\n",
    "\n",
    "Using the data you gathered and stored in `iss-data.json`, make a `matplotlib` plot of the location data.  \n",
    "\n",
    "The specifications of this problem are as follows: \n",
    "1. Use the longitude and latitude data contained in `iss-data.json` as your data.\n",
    "2. Plot this data on a `matplotlib` plot that appropriately visualizes the data. It is up to you what specific plot you want to use as long as we, the human readers of your report, understand the message of your plot.\n",
    "3. Use latitude as the X axis and longitude as the Y axis.  \n",
    "4. VERY IMPORTANT: Make sure that the chart displays in your Jupyter notebook before you submit.  \n",
    "\n",
    "We will only check the chart. We do not care how you make it display as long as you follow the specifications."
   ]
  },
  {
   "cell_type": "code",
   "execution_count": 9,
   "metadata": {},
   "outputs": [
    {
     "data": {
      "text/plain": [
       "Text(0, 0.5, 'Longitude (y)')"
      ]
     },
     "execution_count": 9,
     "metadata": {},
     "output_type": "execute_result"
    },
    {
     "data": {
      "image/png": "[encoded data removed]",
      "text/plain": [
       "<Figure size 432x288 with 1 Axes>"
      ]
     },
     "metadata": {
      "needs_background": "light"
     },
     "output_type": "display_data"
    }
   ],
   "source": [
    "# CODE CELL\n",
    "\n",
    "# CODE START\n",
    "iss_json =  pd.read_json(\"iss-data.json\")\n",
    "iss_figure = plt.figure()\n",
    "iss_axes = iss_figure.add_axes([0.1, 0.1, 1, 1])\n",
    "iss_axes.plot(iss_json['latitude'], iss_json['longitude'], 'r')\n",
    "iss_axes.set_title('ISS Location')\n",
    "iss_axes.set_xlabel('Latitude (x)')\n",
    "iss_axes.set_ylabel('Longitude (y)')\n",
    "# CODE END"
   ]
  }
 ],
 "metadata": {
  "kernelspec": {
   "display_name": "Python 3",
   "language": "python",
   "name": "python3"
  }
 },
 "nbformat": 4,
 "nbformat_minor": 5
}
