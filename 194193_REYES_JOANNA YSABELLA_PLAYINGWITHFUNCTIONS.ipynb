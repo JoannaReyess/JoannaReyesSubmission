{
 "cells": [
  {
   "cell_type": "markdown",
   "metadata": {},
   "source": [
    "# Assignment: Playing with Functions\n",
    "\n",
    "This problem set aims to serve as a stepping stone from basic Python to intermediate Python.  "
   ]
  },
  {
   "cell_type": "markdown",
   "metadata": {},
   "source": [
    "## Problem 1\n",
    "## Factorial (1 point)\n",
    "\n",
    "The **factorial** of a number is the product of that number and all the numbers below it. For example, 5 factorial (denoted 5! in math) is 5 * 4 * 3 * 2 * 1, which is 120.  \n",
    "\n",
    "**Write a function called `problem_1` that takes one positional argument `number`. The function should return  the factorial of `number` as an integer.**\n",
    "\n",
    "Example input/output:  \n",
    "`problem_1(5)` => `120`  \n",
    "`problem_1(10)` => `3628800`  "
   ]
  },
  {
   "cell_type": "code",
   "execution_count": 5,
   "metadata": {},
   "outputs": [
    {
     "name": "stdout",
     "output_type": "stream",
     "text": [
      "2\n"
     ]
    }
   ],
   "source": [
    "def problem_1 (number):\n",
    "    x= number+1\n",
    "    \n",
    "    for i in range (1,x):\n",
    "        x *= i \n",
    "    return int(x / (number + 1))"
   ]
  },
  {
   "cell_type": "markdown",
   "metadata": {},
   "source": [
    "## Problem 2\n",
    "## Guessing Game (2 points) \n",
    "\n",
    "Recall that we use `input()` to ask for user input.  \n",
    "\n",
    "**Write a function called `problem_2` that takes one positional argument `passphrase`. The function should ask the user to enter the passphrase with `input()`. If the user enters the correct passphrase, the function should return the integer `1`. If the user enters the wrong passphrase, the function should keep asking them for the passphrase. If the user gets the passphrase wrong 3 times, the function should return the integer `0`.**  \n",
    "\n",
    "Example input/output:  \n",
    "\n",
    "Function input:  \n",
    "`problem_2(\"chums\")`  \n",
    "Simulated user input:  \n",
    "`joben`  \n",
    "`chums`  \n",
    "Output:  \n",
    "`1`  \n",
    "\n",
    "Function input:  \n",
    "`problem_2(\"annika\")`  \n",
    "Simulated user input:  \n",
    "`joe`  \n",
    "`earl`  \n",
    "`niks`  \n",
    "Output:  \n",
    "`0`"
   ]
  },
  {
   "cell_type": "code",
   "execution_count": null,
   "metadata": {},
   "outputs": [],
   "source": [
    "def problem_2 (passphrase):\n",
    "    counter=0\n",
    "    while counter < 3:\n",
    "        try:\n",
    "            guess = input(\"Guess the passphrase: \")\n",
    "        except:\n",
    "            continue\n",
    "            \n",
    "        if guess == passphrase:\n",
    "            return 1\n",
    "            break\n",
    "        else:\n",
    "            counter +=1\n",
    "    return 0"
   ]
  },
  {
   "cell_type": "markdown",
   "metadata": {},
   "source": [
    "## Problem 3\n",
    "## Temperature Converter (3 points)\n",
    "\n",
    "A common beginner's exercise is to write a function that can convert a temperature value from one format, such as Fahrenheit, to another, such as Celsius.  \n",
    "\n",
    "In this problem, extend this idea to convert temperatures freely to and from any of the following formats: Celsius, Fahrenheit, and Kelvin.  \n",
    "\n",
    "**Write a function called `problem_3` that takes three positional arguments: (float) `temp`, (string) `original_format`, (string) `new_format`. The function should convert `temp`, which is represented in `original_format`, to its equivalent value in the `new_format.`**  \n",
    "\n",
    "Example input/output:  \n",
    "`problem_3(0.0, \"Celsius\", \"Fahrenheit\")` => `32.0`  \n",
    "`problem_3(500.0, \"Kelvin\", \"Fahrenheit\")` => `440.33`  \n",
    "`problem_3(273.0, \"Kelvin\", \"Celsius\")` => `0.0`  \n",
    "\n",
    "For your convenience:  \n",
    "1. The accuracy of your float outputs will only be evaluated to within 2 decimal places. (In other words: don't worry too much about getting the calculation *exactly* right.)"
   ]
  },
  {
   "cell_type": "code",
   "execution_count": null,
   "metadata": {},
   "outputs": [],
   "source": [
    "def problem_3(temp, original_format, new_format): \n",
    "    \n",
    "    if original_format == \"Celsius\" and new_format== \"Fahrenheit\":\n",
    "        return (temp * 9/5) + 32\n",
    "    \n",
    "    elif original_format == \"Celsius\" and new_format== \"Kelvin\":\n",
    "        return temp + 273.15\n",
    "    \n",
    "    elif original_format == \"Fahrenheit\" and new_format== \"Celsius\":\n",
    "        return (temp - 32)*5/9\n",
    "    \n",
    "    elif original_format == \"Fahrenheit\" and new_format== \"Kelvin\":\n",
    "        return (temp - 32) *5/9 + 273.15\n",
    "    \n",
    "    elif original_format ==  \"Kelvin\" and new_format== \"Celsius\":\n",
    "        return temp - 273.15\n",
    "    else:\n",
    "        return (temp - 273.15)* 9/5 + 32"
   ]
  },
  {
   "cell_type": "markdown",
   "metadata": {},
   "source": [
    "## Problem 4\n",
    "## Exact Change (4 points)\n",
    "\n",
    "Part of a cashier's job is to give exact change to customers. It can be difficult to mentally tally how many coins of each type (i.e., 1 peso, 25 centavos, 10 centavos, etc.) to give to a customer.  \n",
    "\n",
    "**Write a function called `problem_4` that takes 1 positional argument `amount` in centavos. The function should return a string that describes the appropriate amounts of each type of coin to give to the customer. The string should be formatted as follows:**  \n",
    "\n",
    "`\"1P:{num}/25C:{num}/10C:{num}/5C:{num}/1C:{num}\"`  \n",
    "\n",
    "**Use the fewest number of total coins possible.**  \n",
    "\n",
    "Example input/output:  \n",
    "`problem_4(105)` => `\"1P:1/25C:0/10C:0/5C:1/1C:0\"`  \n",
    "`problem_4(69)` => `\"1P:0/25C:2/10C:1/5C:1/1C:4\"`  "
   ]
  },
  {
   "cell_type": "code",
   "execution_count": null,
   "metadata": {},
   "outputs": [],
   "source": [
    "def problem_4 (amount):\n",
    "    piso, four, ten, five, one = 0,0,0,0,0         #Counter\n",
    "    \n",
    "    while amount != 0:\n",
    "        if amount >= 100:\n",
    "            amount -= 100\n",
    "            piso +=1\n",
    "            continue\n",
    "\n",
    "        elif amount >= 25:\n",
    "            amount -= 25\n",
    "            four +=1\n",
    "            continue\n",
    "\n",
    "        elif amount >= 10:\n",
    "            amount -= 10\n",
    "            ten +=1\n",
    "            continue\n",
    "            \n",
    "        \n",
    "        elif amount >= 5:\n",
    "            amount -= 5\n",
    "            five +=1\n",
    "            continue\n",
    "\n",
    "        elif amount >= 1:\n",
    "            amount -= 1\n",
    "            one +=1\n",
    "            continue\n",
    "\n",
    "    if amount == 0:\n",
    "        return f\"1P:{piso}/25C:{four}/10C:{ten}/5C:{five}/1C:{one}\"\n"
   ]
  },
  {
   "cell_type": "markdown",
   "metadata": {},
   "source": [
    "## Problem 5\n",
    "## Invert Capitalization (3 points)  \n",
    "\n",
    "**Write a function called `problem_5` that takes 1 positional argument (string) `message`. The function should return a string whose uppercase letters are now lowercase and whose lowercase letters are now uppercase. Spaces should be left alone.**  \n",
    "\n",
    "Example input/output:  \n",
    "`problem_5(\"Test Me\")` => `\"tEST mE\"`  \n",
    "`problem_5(\"asSiGnmENt\")` => `\"ASsIgNMenT\"`  \n",
    "\n",
    "For your convenience:  \n",
    "1. The message will only ever consist of spaces, lowercase letters, and uppercase letters.  \n",
    "\n",
    "Hint: Research on `ord()` and `chr()`.  "
   ]
  },
  {
   "cell_type": "code",
   "execution_count": null,
   "metadata": {},
   "outputs": [],
   "source": [
    "def problem_5(message):\n",
    "    reversed_message=''\n",
    "    for character in message:\n",
    "        if ord(character)>= 65 and ord(character)<=90:\n",
    "            reversed_message+= (chr(ord(character)+32))\n",
    "            \n",
    "        elif ord(character)>= 97 and ord(character)<=122:\n",
    "            reversed_message += (chr(ord(character)-32))\n",
    "            \n",
    "        else:\n",
    "            reversed_message += \" \"\n",
    "            continue\n",
    "    \n",
    "    return reversed_message"
   ]
  }
 ],
 "metadata": {
  "kernelspec": {
   "display_name": "Python 3",
   "language": "python",
   "name": "python3"
  },
  "language_info": {
   "codemirror_mode": {
    "name": "ipython",
    "version": 3
   },
   "file_extension": ".py",
   "mimetype": "text/x-python",
   "name": "python",
   "nbconvert_exporter": "python",
   "pygments_lexer": "ipython3",
   "version": "3.7.6"
  }
 },
 "nbformat": 4,
 "nbformat_minor": 5
}
